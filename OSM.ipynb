{
 "cells": [
  {
   "cell_type": "code",
   "execution_count": 5,
   "metadata": {
    "collapsed": true
   },
   "outputs": [],
   "source": [
    "#!/usr/bin/env python\n",
    "# -*- coding: utf-8 -*-"
   ]
  },
  {
   "cell_type": "code",
   "execution_count": 6,
   "metadata": {
    "collapsed": true
   },
   "outputs": [],
   "source": [
    "import xml.etree.cElementTree as ET\n",
    "import pprint\n",
    "from collections import defaultdict\n",
    "import re"
   ]
  },
  {
   "cell_type": "code",
   "execution_count": 7,
   "metadata": {
    "collapsed": true
   },
   "outputs": [],
   "source": [
    "filename=r'C:\\Users\\linshoubao\\Downloads\\p3\\chicago.osm'\n",
    "type_re = re.compile(r'\\b\\S+\\.?$', re.IGNORECASE)"
   ]
  },
  {
   "cell_type": "markdown",
   "metadata": {},
   "source": [
    "通过观察芝加哥xml数据，发现街道名、tiger GPS中的type、direction存在缩写的行为，如下所示：\n",
    "```\n",
    "<tag k=\"tiger:name_type\" v=\"Ave\" />\n",
    "<tag k=\"tiger:name_direction_prefix\" v=\"S\" />\n",
    "<tag k=\"tiger:name_direction_prefix\" v=\"W\" /> \n",
    "```"
   ]
  },
  {
   "cell_type": "markdown",
   "metadata": {},
   "source": [
    "# 一、数据清洗、整理阶段"
   ]
  },
  {
   "cell_type": "markdown",
   "metadata": {},
   "source": [
    "## 第一步：我们需要对数据进行审查，找出问题数据。"
   ]
  },
  {
   "cell_type": "markdown",
   "metadata": {},
   "source": [
    "我们把街道名、tiger GPS中希望出现的值放入expected中，如下："
   ]
  },
  {
   "cell_type": "code",
   "execution_count": 8,
   "metadata": {
    "collapsed": true
   },
   "outputs": [],
   "source": [
    "expected = [\"Street\", \"Avenue\", \"Boulevard\", \"Drive\", \"Court\", \"Place\", \"Square\", \"Lane\", \"Road\", \n",
    "            \"Trail\", \"Parkway\", \"Commons\",'Market','Plaza','Terrace','Walk','Ciruit','West','South','North','Row','Clinton','1']"
   ]
  },
  {
   "cell_type": "code",
   "execution_count": 9,
   "metadata": {
    "collapsed": true
   },
   "outputs": [],
   "source": [
    "# 创建审查类型方法\n",
    "def audit_type(types, name):\n",
    "    m = type_re.search(name)\n",
    "    if m:\n",
    "        key_type = m.group()\n",
    "        if key_type not in expected:\n",
    "            types[key_type].add(name)"
   ]
  },
  {
   "cell_type": "code",
   "execution_count": 16,
   "metadata": {
    "collapsed": true
   },
   "outputs": [],
   "source": [
    "#创建判断是否是街道名、tiger GPS 元素方法\n",
    "def is_street_name(elem):\n",
    "    return (elem.attrib['k'] == \"addr:street\")\n",
    "def is_street_type(elem):\n",
    "    return (elem.attrib['k']=='addr:street:type')\n",
    "def is_name_type(elem):\n",
    "    return (elem.attrib['k']=='tiger:name_type')\n",
    "def is_name_direction_prefix(elem):\n",
    "    return (elem.attrib['k']=='tiger:name_direction_prefix')"
   ]
  },
  {
   "cell_type": "code",
   "execution_count": 17,
   "metadata": {
    "collapsed": true
   },
   "outputs": [],
   "source": [
    "#创建审查方法\n",
    "def audit(osmfile):\n",
    "    osm_file = open(osmfile, \"r\")\n",
    "    street_types = defaultdict(set)\n",
    "    street_names = defaultdict(set)\n",
    "    name_types = defaultdict(set)\n",
    "    name_direction_prefix = defaultdict(set)\n",
    "    for event, elem in ET.iterparse(osm_file, events=(\"start\",)):\n",
    "\n",
    "        if elem.tag == \"node\" or elem.tag == \"way\":\n",
    "            for tag in elem.iter(\"tag\"):\n",
    "                if is_street_name(tag):\n",
    "                    audit_type(street_names, tag.attrib['v'])\n",
    "                elif is_street_type(tag):\n",
    "                    audit_type(street_types,tag.attrib['v'])\n",
    "                elif is_name_type(tag):\n",
    "                    audit_type(name_types,tag.attrib['v'])\n",
    "                elif  is_name_direction_prefix(tag):\n",
    "                    audit_type(name_direction_prefix,tag.attrib['v'])\n",
    "    osm_file.close()\n",
    "    return street_names,street_types,name_types,name_direction_prefix"
   ]
  },
  {
   "cell_type": "code",
   "execution_count": 20,
   "metadata": {
    "collapsed": true
   },
   "outputs": [],
   "source": [
    "def test():\n",
    "    street_names,street_types,name_types,name_direction_prefix = audit(filename)\n",
    "    pprint.pprint(dict(street_names))\n",
    "    pprint.pprint(dict(street_types))\n",
    "    pprint.pprint(dict(name_types))\n",
    "    pprint.pprint(dict(name_direction_prefix))"
   ]
  },
  {
   "cell_type": "markdown",
   "metadata": {},
   "source": [
    "运行test（）方法，获得有问题的数据，以字典形式表示，如下："
   ]
  },
  {
   "cell_type": "code",
   "execution_count": 21,
   "metadata": {},
   "outputs": [
    {
     "name": "stdout",
     "output_type": "stream",
     "text": [
      "{'575': set(['N LaSalle St, #575']),\n",
      " 'Dr': set(['North Upper Wacker Dr']),\n",
      " 'St': set(['W 18th St']),\n",
      " 'St.': set(['W. Lake St.', 'W. Madison St.'])}\n",
      "{'St': set(['St'])}\n",
      "{'Ave': set(['Ave']),\n",
      " 'Ave:Blvd': set(['Ave:Blvd']),\n",
      " 'Blvd': set(['Blvd']),\n",
      " 'Blvd:St': set(['Blvd:St']),\n",
      " 'Cir': set(['Cir']),\n",
      " 'Ct': set(['Ct']),\n",
      " 'Dr': set(['Dr']),\n",
      " 'Dr;Blvd': set(['Dr;Blvd']),\n",
      " 'Ln': set(['Ln']),\n",
      " 'Pky': set(['Pky']),\n",
      " 'Pl': set(['Pl']),\n",
      " 'Rd': set(['Rd']),\n",
      " 'Sq': set(['Sq']),\n",
      " 'St': set(['St']),\n",
      " 'Ter': set(['Ter'])}\n",
      "{'N': set(['N']), 'S': set(['S']), 'W': set(['W'])}\n"
     ]
    }
   ],
   "source": [
    "if __name__ == '__main__':\n",
    "    test()"
   ]
  },
  {
   "cell_type": "markdown",
   "metadata": {},
   "source": [
    "## 第二步：创建mapping字典"
   ]
  },
  {
   "cell_type": "markdown",
   "metadata": {},
   "source": [
    "通过审查可以看到，数据中有23种缩写问题，我们把这种缩写字符串和全称字符串以字典的形式放入mapping中，如下:"
   ]
  },
  {
   "cell_type": "code",
   "execution_count": 34,
   "metadata": {
    "collapsed": true
   },
   "outputs": [],
   "source": [
    "mapping = { 'St': \"Street\",'Ave':'Avenue', 'Rd.':'Road','Pky':'Parkway','Cir':'Circuit','Dr':'Drive','Sq':'Square','Pl':'Place',\n",
    "           'Ter':'Terrace','Blvd:St':'Boulevard:Street','W':'West', 'S':'South','Blvd':'Boulevard','Ave:Blvd':'Avenue:Boulevard',\n",
    "           'N':'North','Ln':'lane','Dr;Blvd':'Drive;Boulevard','Ct':'Court','W 18th St':'West 18th South','W. Lake St.':'West Lake Street',\n",
    "           'W. Madison St.':'West Madison Street','N LaSalle St, #575':'North LaSalle Street, #575'}"
   ]
  },
  {
   "cell_type": "markdown",
   "metadata": {},
   "source": [
    "## 第三步：创建update_value方法，对问题数据进行更新。"
   ]
  },
  {
   "cell_type": "code",
   "execution_count": 32,
   "metadata": {
    "collapsed": true
   },
   "outputs": [],
   "source": [
    "def update_value(value, mapping):\n",
    "    if value in mapping:\n",
    "        value=mapping[value]\n",
    "    else:\n",
    "        last=value.split()[-1]\n",
    "        if  last in mapping:\n",
    "            value=value.replace(last,mapping[last])\n",
    "    return value"
   ]
  },
  {
   "cell_type": "markdown",
   "metadata": {},
   "source": [
    "# 二、数据提取、导出阶段"
   ]
  },
  {
   "cell_type": "markdown",
   "metadata": {},
   "source": [
    "## 第一步：数据提取前期模块、路径等准备。"
   ]
  },
  {
   "cell_type": "code",
   "execution_count": 22,
   "metadata": {
    "collapsed": true
   },
   "outputs": [],
   "source": [
    "import csv\n",
    "import codecs\n",
    "import cerberus\n",
    "import schema_test #自行创建的模块"
   ]
  },
  {
   "cell_type": "code",
   "execution_count": 23,
   "metadata": {
    "collapsed": true
   },
   "outputs": [],
   "source": [
    "#设置CSV文件存放路径\n",
    "NODES_PATH = r\"C:\\Users\\linshoubao\\Downloads\\p3\\nodes.csv\"\n",
    "NODE_TAGS_PATH = r\"C:\\Users\\linshoubao\\Downloads\\p3\\nodes_tags.csv\"\n",
    "WAYS_PATH = r\"C:\\Users\\linshoubao\\Downloads\\p3\\ways.csv\"\n",
    "WAY_NODES_PATH = r\"C:\\Users\\linshoubao\\Downloads\\p3\\ways_nodes.csv\"\n",
    "WAY_TAGS_PATH = r\"C:\\Users\\linshoubao\\Downloads\\p3\\ways_tags.csv\""
   ]
  },
  {
   "cell_type": "code",
   "execution_count": 24,
   "metadata": {
    "collapsed": true
   },
   "outputs": [],
   "source": [
    "#创建CSV文件中的字段名\n",
    "NODE_FIELDS = ['id', 'lat', 'lon', 'user', 'uid', 'version', 'changeset', 'timestamp']\n",
    "NODE_TAGS_FIELDS = ['id', 'key', 'value', 'type']\n",
    "WAY_FIELDS = ['id', 'user', 'uid', 'version', 'changeset', 'timestamp']\n",
    "WAY_TAGS_FIELDS = ['id', 'key', 'value', 'type']\n",
    "WAY_NODES_FIELDS = ['id', 'node_id', 'position']"
   ]
  },
  {
   "cell_type": "code",
   "execution_count": 25,
   "metadata": {
    "collapsed": true
   },
   "outputs": [],
   "source": [
    "PROBLEMCHARS = re.compile(r'[=\\+/&<>;\\'\"\\?%#$@\\,\\. \\t\\r\\n]') #问题字段正则表达式\n",
    "\n",
    "SCHEMA = schema_test.schema"
   ]
  },
  {
   "cell_type": "markdown",
   "metadata": {},
   "source": [
    "## 第二步：数据提取。"
   ]
  },
  {
   "cell_type": "markdown",
   "metadata": {},
   "source": [
    "根据要求，需将xml文件中的值提取出来，赋值到CSV文件中对应字段名下，创建shape_element方法;"
   ]
  },
  {
   "cell_type": "code",
   "execution_count": 26,
   "metadata": {
    "collapsed": true
   },
   "outputs": [],
   "source": [
    "def shape_element(element, node_attr_fields=NODE_FIELDS, way_attr_fields=WAY_FIELDS,\n",
    "                  problem_chars=PROBLEMCHARS, default_tag_type='regular'):\n",
    "    \"\"\"Clean and shape node or way XML element to Python dict\"\"\"\n",
    "\n",
    "    node_attribs = {}\n",
    "    way_attribs = {}\n",
    "    way_nodes = []\n",
    "    tags = []  # Handle secondary tags the same way for both node and way elements\n",
    "\n",
    "    if element.tag == 'node':\n",
    "        # 提取node_attribs中tag的值\n",
    "        for field in node_attr_fields:\n",
    "            if field=='id' or field=='uid' or field=='changeset':\n",
    "                node_attribs[field]=int(element.attrib[field])\n",
    "            elif field=='lat' or field=='lon':\n",
    "                node_attribs[field]=float(element.attrib[field])\n",
    "            else:\n",
    "                node_attribs[field]=element.attrib[field]\n",
    "        #提取node标签嵌套文档的值\n",
    "        for elem in element.findall('tag'):\n",
    "            tags_record={}\n",
    "            if elem is not None:\n",
    "                if problem_chars.search(elem.attrib['k']):\n",
    "                    pass\n",
    "                else:\n",
    "                    tags_record['id']=node_attribs['id']\n",
    "                    if is_street_name(elem) or is_street_type(elem) or is_name_type(elem) or is_name_direction_prefix(elem):\n",
    "                        tags_record['value']=update_value(elem.attrib['v'],mapping)\n",
    "                    else:\n",
    "                        tags_record['value']=elem.attrib['v']\n",
    "                    if ':' in elem.attrib['k']:\n",
    "                        n=elem.attrib['k'].find(':')\n",
    "                        tags_record['key']=elem.attrib['k'][n+1:]\n",
    "                        tags_record['type']=elem.attrib['k'][0:n]\n",
    "                    else:\n",
    "                        tags_record['key']=elem.attrib['k']\n",
    "                        tags_record['type']=default_tag_type\n",
    "                    tags.append(tags_record)\n",
    "        return {'node': node_attribs, 'node_tags': tags}\n",
    "    \n",
    "    elif element.tag == 'way':\n",
    "        #提取way_attribs中tag的值\n",
    "        for field in way_attr_fields:\n",
    "            if field=='id' or field=='uid' or field=='changeset':\n",
    "                way_attribs[field]=int(element.attrib[field])\n",
    "            else:\n",
    "                way_attribs[field]=element.attrib[field]\n",
    "        #提取way标签嵌套文档的值\n",
    "        for elem in element.findall('tag'):\n",
    "            tags_record={}\n",
    "            if elem is not None:\n",
    "                if problem_chars.search(elem.attrib['k']):\n",
    "                    pass\n",
    "                else:\n",
    "                    tags_record['id']=way_attribs['id']\n",
    "                    if is_street_name(elem) or is_street_type(elem) or is_name_type(elem) or is_name_direction_prefix(elem):\n",
    "                        tags_record['value']=update_value(elem.attrib['v'],mapping)\n",
    "                    else:\n",
    "                        tags_record['value']=elem.attrib['v']\n",
    "                    if ':' in elem.attrib['k']:\n",
    "                        n=elem.attrib['k'].find(':')\n",
    "                        tags_record['key']=elem.attrib['k'][n+1:]\n",
    "                        tags_record['type']=elem.attrib['k'][0:n]\n",
    "                    else:\n",
    "                        tags_record['key']=elem.attrib['k']\n",
    "                        tags_record['type']=default_tag_type\n",
    "                    tags.append(tags_record)\n",
    "        #提取way标签嵌套文档node的值\n",
    "        count=0\n",
    "        for elem in element.findall('nd'):\n",
    "            node_record={}\n",
    "            node_record['id']=way_attribs['id']\n",
    "            node_record['node_id']=elem.attrib['ref']\n",
    "            node_record['position']=count\n",
    "            way_nodes.append(node_record)\n",
    "            count +=1\n",
    "        return {'way': way_attribs, 'way_nodes': way_nodes, 'way_tags': tags}\n"
   ]
  },
  {
   "cell_type": "code",
   "execution_count": 27,
   "metadata": {
    "collapsed": true
   },
   "outputs": [],
   "source": [
    "def get_element(osm_file, tags=('node', 'way', 'relation')):    #获取tags标签元素\n",
    "    \"\"\"Yield element if it is the right type of tag\"\"\"\n",
    "\n",
    "    context = ET.iterparse(osm_file, events=('start', 'end'))\n",
    "    _, root = next(context)\n",
    "    for event, elem in context:\n",
    "        if event == 'end' and elem.tag in tags:\n",
    "            yield elem\n",
    "            root.clear()"
   ]
  },
  {
   "cell_type": "code",
   "execution_count": 28,
   "metadata": {
    "collapsed": true
   },
   "outputs": [],
   "source": [
    "def validate_element(element, validator, schema=SCHEMA):    #验证元素\n",
    "    \"\"\"Raise ValidationError if element does not match schema\"\"\"\n",
    "    if validator.validate(element, schema) is not True:\n",
    "        field, errors = next(validator.errors.iteritems())\n",
    "        message_string = \"\\nElement of type '{0}' has the following errors:\\n{1}\"\n",
    "        error_string = pprint.pformat(errors)\n",
    "        \n",
    "        raise Exception(message_string.format(field, error_string))"
   ]
  },
  {
   "cell_type": "markdown",
   "metadata": {},
   "source": [
    "## 第三步：保存数据。"
   ]
  },
  {
   "cell_type": "markdown",
   "metadata": {},
   "source": [
    "这里我们需要创建UnicodeDictWriter方法，不用CSV模块中的DictWriter方法，是因为xml文件中存在无法编码的数据。"
   ]
  },
  {
   "cell_type": "code",
   "execution_count": 29,
   "metadata": {
    "collapsed": true
   },
   "outputs": [],
   "source": [
    "class UnicodeDictWriter(csv.DictWriter, object):   #创建Unicode写入类\n",
    "    \"\"\"Extend csv.DictWriter to handle Unicode input\"\"\"\n",
    "\n",
    "    def writerow(self, row):\n",
    "        super(UnicodeDictWriter, self).writerow({\n",
    "            k: (v.encode('utf-8') if isinstance(v, unicode) else v) for k, v in row.iteritems()\n",
    "        })\n",
    "\n",
    "    def writerows(self, rows):\n",
    "        for row in rows:\n",
    "            self.writerow(row)"
   ]
  },
  {
   "cell_type": "code",
   "execution_count": 30,
   "metadata": {
    "collapsed": true
   },
   "outputs": [],
   "source": [
    "def process_map(file_in, validate):     #保存CSV文件\n",
    "    \"\"\"Iteratively process each XML element and write to csv(s)\"\"\"\n",
    "\n",
    "    with codecs.open(NODES_PATH, 'w') as nodes_file, \\\n",
    "         codecs.open(NODE_TAGS_PATH, 'w') as nodes_tags_file, \\\n",
    "         codecs.open(WAYS_PATH, 'w') as ways_file, \\\n",
    "         codecs.open(WAY_NODES_PATH, 'w') as way_nodes_file, \\\n",
    "         codecs.open(WAY_TAGS_PATH, 'w') as way_tags_file:\n",
    "\n",
    "        nodes_writer = UnicodeDictWriter(nodes_file, NODE_FIELDS)\n",
    "        node_tags_writer = UnicodeDictWriter(nodes_tags_file, NODE_TAGS_FIELDS)\n",
    "        ways_writer = UnicodeDictWriter(ways_file, WAY_FIELDS)\n",
    "        way_nodes_writer = UnicodeDictWriter(way_nodes_file, WAY_NODES_FIELDS)\n",
    "        way_tags_writer = UnicodeDictWriter(way_tags_file, WAY_TAGS_FIELDS)\n",
    "\n",
    "        nodes_writer.writeheader()\n",
    "        node_tags_writer.writeheader()\n",
    "        ways_writer.writeheader()\n",
    "        way_nodes_writer.writeheader()\n",
    "        way_tags_writer.writeheader()\n",
    "\n",
    "        validator = cerberus.Validator()\n",
    "\n",
    "        for element in get_element(file_in, tags=('node', 'way')):\n",
    "            el = shape_element(element)\n",
    "            if el:\n",
    "                if validate is True:\n",
    "                    validate_element(el, validator)\n",
    "\n",
    "                if element.tag == 'node':\n",
    "                    nodes_writer.writerow(el['node'])\n",
    "                    node_tags_writer.writerows(el['node_tags'])\n",
    "                elif element.tag == 'way':\n",
    "                    ways_writer.writerow(el['way'])\n",
    "                    way_nodes_writer.writerows(el['way_nodes'])\n",
    "                    way_tags_writer.writerows(el['way_tags'])"
   ]
  },
  {
   "cell_type": "markdown",
   "metadata": {},
   "source": [
    "## 第四步：导出数据。"
   ]
  },
  {
   "cell_type": "markdown",
   "metadata": {},
   "source": [
    "因为数据集大小为104M，比较大，导出时间至少需要30分钟。"
   ]
  },
  {
   "cell_type": "code",
   "execution_count": 35,
   "metadata": {
    "collapsed": true
   },
   "outputs": [],
   "source": [
    "if __name__ == '__main__':\n",
    "    process_map(filename, validate=True)"
   ]
  },
  {
   "cell_type": "code",
   "execution_count": null,
   "metadata": {
    "collapsed": true
   },
   "outputs": [],
   "source": []
  }
 ],
 "metadata": {
  "kernelspec": {
   "display_name": "Python 2",
   "language": "python",
   "name": "python2"
  },
  "language_info": {
   "codemirror_mode": {
    "name": "ipython",
    "version": 2
   },
   "file_extension": ".py",
   "mimetype": "text/x-python",
   "name": "python",
   "nbconvert_exporter": "python",
   "pygments_lexer": "ipython2",
   "version": "2.7.13"
  }
 },
 "nbformat": 4,
 "nbformat_minor": 2
}
